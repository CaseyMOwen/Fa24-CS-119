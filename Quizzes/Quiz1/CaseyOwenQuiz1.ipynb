{
 "cells": [
  {
   "cell_type": "markdown",
   "metadata": {},
   "source": [
    "# Quiz 1: Web Mining with Beautiful Soup\n",
    "\n",
    "### Casey Owen\n",
    "### CS119 Big Data, Fall 2024\n",
    "\n",
    "## Objective:\n",
    "To use Beautiful Soup, the Python Library, to extract some information from the internet about\n",
    "Beautiful Soup, the Lewis Carroll poem."
   ]
  },
  {
   "cell_type": "code",
   "execution_count": 5,
   "metadata": {},
   "outputs": [],
   "source": [
    "from bs4 import BeautifulSoup\n",
    "import requests\n",
    "\n",
    "def make_soup(url):\n",
    "    '''\n",
    "    Creates a soup object from a given url on the web\n",
    "    '''\n",
    "    html_content = requests.get(url).text\n",
    "    soup = BeautifulSoup(html_content, \"html.parser\")\n",
    "    return soup"
   ]
  },
  {
   "cell_type": "markdown",
   "metadata": {},
   "source": [
    "### Programmatic Extraction Question 1"
   ]
  },
  {
   "cell_type": "code",
   "execution_count": 38,
   "metadata": {},
   "outputs": [
    {
     "name": "stdout",
     "output_type": "stream",
     "text": [
      "[\"Alice's Adventures in Wonderland\", 'Through the Looking-Glass, and What Alice Found There', \"Alice's Adventures Underground\"]\n",
      "CORRECT\n"
     ]
    }
   ],
   "source": [
    "def books():\n",
    "    '''\n",
    "    Returns the names of the cannon books as a list.\n",
    "    '''\n",
    "    home_url = \"https://aliceinwonderland.fandom.com/wiki/Alice_in_Wonderland_Wiki\"\n",
    "    soup = make_soup(home_url)\n",
    "    nav_bar = soup.find(class_='fandom-community-header__local-navigation')\n",
    "    tabs = nav_bar.find(class_='wds-tabs')\n",
    "    # Gets the second child in the tabs - the lit tab\n",
    "    lit_tab = tabs.findChildren(\"li\", recursive=False)[1]\n",
    "    lit_content = lit_tab.find(\"ul\", class_=\"wds-list wds-is-linked\")\n",
    "    # Canon books is the first option in the literature tab\n",
    "    canon_books_tab = lit_content.findChildren(\"li\", recusive=False)[0]\n",
    "    canon_books = canon_books_tab.find(\"ul\", class_=\"wds-list wds-is-linked\")\n",
    "    book_names = canon_books.find_all(\"span\")\n",
    "    book_names_text = [name.get_text() for name in book_names]\n",
    "    return book_names_text\n",
    "\n",
    "result = books()\n",
    "print(result)\n",
    "\n",
    "p1_answer = [\n",
    "    \"Alice's Adventures in Wonderland\",\n",
    "    'Through the Looking-Glass, and What Alice Found There',\n",
    "    \"Alice's Adventures Underground\"\n",
    "]\n",
    "if result == p1_answer:\n",
    "    print('CORRECT')\n",
    "else:\n",
    "    print(\"INCORRECT\")\n"
   ]
  }
 ],
 "metadata": {
  "kernelspec": {
   "display_name": ".venv",
   "language": "python",
   "name": ".venv"
  },
  "language_info": {
   "codemirror_mode": {
    "name": "ipython",
    "version": 3
   },
   "file_extension": ".py",
   "mimetype": "text/x-python",
   "name": "python",
   "nbconvert_exporter": "python",
   "pygments_lexer": "ipython3",
   "version": "3.10.12"
  }
 },
 "nbformat": 4,
 "nbformat_minor": 2
}
