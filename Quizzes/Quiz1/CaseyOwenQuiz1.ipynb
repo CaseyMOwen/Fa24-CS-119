{
 "cells": [
  {
   "cell_type": "markdown",
   "metadata": {},
   "source": [
    "# Quiz 1: Web Mining with Beautiful Soup\n",
    "\n",
    "### Casey Owen\n",
    "### CS119 Big Data, Fall 2024\n",
    "\n",
    "## Objective:\n",
    "To use Beautiful Soup, the Python Library, to extract some information from the internet about\n",
    "Beautiful Soup, the Lewis Carroll poem."
   ]
  },
  {
   "cell_type": "code",
   "execution_count": null,
   "metadata": {},
   "outputs": [],
   "source": []
  }
 ],
 "metadata": {
  "language_info": {
   "name": "python"
  }
 },
 "nbformat": 4,
 "nbformat_minor": 2
}
