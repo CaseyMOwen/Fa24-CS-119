{
 "cells": [
  {
   "cell_type": "markdown",
   "metadata": {},
   "source": [
    "CS119 Big Data\n",
    "\n",
    "Spring 2024\n",
    "\n",
    "Objective:\n",
    "To use Beautiful Soup, the Python Library, to extract some information from the internet about\n",
    "Beautiful Soup, the Lewis Carroll poem."
   ]
  },
  {
   "cell_type": "code",
   "execution_count": 1,
   "metadata": {},
   "outputs": [],
   "source": [
    "from bs4 import BeautifulSoup\n",
    "import requests\n",
    "\n",
    "def make_soup(url):\n",
    "    '''\n",
    "    Creates a soup object from a given url on the web\n",
    "    '''\n",
    "    html_content = requests.get(url).text\n",
    "    soup = BeautifulSoup(html_content, \"html.parser\")\n",
    "    return soup"
   ]
  },
  {
   "cell_type": "markdown",
   "metadata": {},
   "source": [
    "# books()"
   ]
  },
  {
   "cell_type": "code",
   "execution_count": 2,
   "metadata": {},
   "outputs": [],
   "source": [
    "def books():\n",
    "    '''\n",
    "    Returns the names of the canon books as a list.\n",
    "    '''\n",
    "    home_url = \"https://aliceinwonderland.fandom.com/wiki/Alice_in_Wonderland_Wiki\"\n",
    "    soup = make_soup(home_url)\n",
    "    nav_bar = soup.find(class_='fandom-community-header__local-navigation')\n",
    "    tabs = nav_bar.find(class_='wds-tabs')\n",
    "    # Gets the second child in the tabs - the lit tab\n",
    "    lit_tab = tabs.findChildren(\"li\", recursive=False)[1]\n",
    "    lit_content = lit_tab.find(\"ul\", class_=\"wds-list wds-is-linked\")\n",
    "    # Canon books is the first option in the literature tab\n",
    "    canon_books_tab = lit_content.findChildren(\"li\", recusive=False)[0]\n",
    "    canon_books = canon_books_tab.find(\"ul\", class_=\"wds-list wds-is-linked\")\n",
    "    # All names are listed in spans\n",
    "    book_names = canon_books.find_all(\"span\")\n",
    "    book_names_text = [name.get_text() for name in book_names]\n",
    "    return book_names_text"
   ]
  },
  {
   "cell_type": "markdown",
   "metadata": {},
   "source": [
    "## Test the output against known answer"
   ]
  },
  {
   "cell_type": "code",
   "execution_count": 3,
   "metadata": {},
   "outputs": [
    {
     "name": "stdout",
     "output_type": "stream",
     "text": [
      "[\"Alice's Adventures in Wonderland\", 'Through the Looking-Glass, and What Alice Found There', \"Alice's Adventures Underground\"]\n",
      "CORRECT\n"
     ]
    }
   ],
   "source": [
    "result = books()\n",
    "print(result)\n",
    "\n",
    "p1_answer = [\n",
    "    \"Alice's Adventures in Wonderland\",\n",
    "    'Through the Looking-Glass, and What Alice Found There',\n",
    "    \"Alice's Adventures Underground\"\n",
    "]\n",
    "if result == p1_answer:\n",
    "    print('CORRECT')\n",
    "else:\n",
    "    print(\"INCORRECT\")"
   ]
  },
  {
   "cell_type": "markdown",
   "metadata": {},
   "source": [
    "# poems()"
   ]
  },
  {
   "cell_type": "code",
   "execution_count": 4,
   "metadata": {},
   "outputs": [],
   "source": [
    "def poems():\n",
    "    '''\n",
    "    Returns the names of the canon poems and their urls, as a list of tuples.\n",
    "    '''\n",
    "    home_url = \"https://aliceinwonderland.fandom.com/wiki/Alice_in_Wonderland_Wiki\"\n",
    "    soup = make_soup(home_url)\n",
    "    nav_bar = soup.find(class_='fandom-community-header__local-navigation')\n",
    "    tabs = nav_bar.find(class_='wds-tabs')\n",
    "    # Gets the second child in the tabs - the lit tab\n",
    "    lit_tab = tabs.findChildren(\"li\", recursive=False)[1]\n",
    "    lit_content = lit_tab.find(\"ul\", class_=\"wds-list wds-is-linked\")\n",
    "    # Canon poems is the second option in the literature tab\n",
    "    canon_poems_tab = lit_content.findChildren(\"li\", class_=\"wds-dropdown-level-nested\", recusive=False)[1]\n",
    "    canon_poems = canon_poems_tab.find(\"ul\", class_=\"wds-list wds-is-linked\")\n",
    "    poem_names = canon_poems.find_all(\"span\")\n",
    "    poem_names_text = [name.get_text() for name in poem_names]\n",
    "    # Links are listed as the href part of an a tag\n",
    "    poem_links = canon_poems.find_all(\"a\")\n",
    "    poem_links_text = [link['href'] for link in poem_links]\n",
    "    return list(zip(poem_names_text, poem_links_text))"
   ]
  },
  {
   "cell_type": "markdown",
   "metadata": {},
   "source": [
    "## Test the output against known answer"
   ]
  },
  {
   "cell_type": "code",
   "execution_count": 5,
   "metadata": {},
   "outputs": [
    {
     "name": "stdout",
     "output_type": "stream",
     "text": [
      "[('Jabberwocky', 'https://aliceinwonderland.fandom.com/wiki/Jabberwocky'), ('How Doth the Little Crocodile', 'https://aliceinwonderland.fandom.com/wiki/How_Doth_the_Little_Crocodile'), ('The Walrus and the Carpenter', 'https://aliceinwonderland.fandom.com/wiki/The_Walrus_and_the_Carpenter_(poem)'), ('You Are Old, Father William', 'https://aliceinwonderland.fandom.com/wiki/You_Are_Old,_Father_William'), (\"Humpty Dumpty's Recitation\", 'https://aliceinwonderland.fandom.com/wiki/Humpty_Dumpty%27s_Recitation'), ('Turtle Soup', 'https://aliceinwonderland.fandom.com/wiki/Turtle_Soup'), ('Tis the Voice of the Lobster', 'https://aliceinwonderland.fandom.com/wiki/Tis_the_Voice_of_the_Lobster')]\n",
      "CORRECT\n"
     ]
    }
   ],
   "source": [
    "result = poems()\n",
    "print(result)\n",
    "\n",
    "p2_answer = [\n",
    "    ('Jabberwocky', 'https://aliceinwonderland.fandom.com/wiki/Jabberwocky'),\n",
    "    ('How Doth the Little Crocodile', 'https://aliceinwonderland.fandom.com/wiki/How_Doth_the_Little_Crocodile'),\n",
    "    ('The Walrus and the Carpenter', 'https://aliceinwonderland.fandom.com/wiki/The_Walrus_and_the_Carpenter_(poem)'),\n",
    "    ('You Are Old, Father William', 'https://aliceinwonderland.fandom.com/wiki/You_Are_Old,_Father_William'),\n",
    "    (\"Humpty Dumpty's Recitation\", 'https://aliceinwonderland.fandom.com/wiki/Humpty_Dumpty%27s_Recitation'),\n",
    "    ('Turtle Soup', 'https://aliceinwonderland.fandom.com/wiki/Turtle_Soup'),\n",
    "    ('Tis the Voice of the Lobster', 'https://aliceinwonderland.fandom.com/wiki/Tis_the_Voice_of_the_Lobster')\n",
    "]\n",
    "if result == p2_answer:\n",
    "    print('CORRECT')\n",
    "else:\n",
    "    print(\"INCORRECT\")"
   ]
  },
  {
   "cell_type": "markdown",
   "metadata": {},
   "source": [
    "# poem_title_text()"
   ]
  },
  {
   "cell_type": "code",
   "execution_count": 6,
   "metadata": {},
   "outputs": [],
   "source": [
    "def poem_title_text(n):\n",
    "    '''\n",
    "    Returns the corresponding poem title and text, according to the order of outputs of poems(). Only works for n=2 or n=5.\n",
    "    '''\n",
    "    if n not in [2,5]:\n",
    "        raise ValueError('n can only be 2 or 5')\n",
    "    title, link = poems()[n]\n",
    "    soup = make_soup(link)\n",
    "    text_h2 = soup.select('span#Text')[0]\n",
    "    poem_paragraphs = text_h2.find_all_next('p')\n",
    "    poem_text = \"\"\n",
    "    for paragraph in poem_paragraphs:\n",
    "        poem_text += paragraph.get_text()\n",
    "    return title, poem_text\n",
    "\n"
   ]
  },
  {
   "cell_type": "markdown",
   "metadata": {},
   "source": [
    "## Display the output"
   ]
  },
  {
   "cell_type": "code",
   "execution_count": 7,
   "metadata": {},
   "outputs": [
    {
     "name": "stdout",
     "output_type": "stream",
     "text": [
      "The Walrus and the Carpenter\n",
      "\n",
      "The sun was shining on the sea,\n",
      "Shining with all his might:\n",
      "He did his very best to make\n",
      "The billows smooth and bright--\n",
      "And this was odd, because it was\n",
      "The middle of the night.\n",
      "The moon was shining sulkily,\n",
      "Because she thought the sun\n",
      "Had got no business to be there\n",
      "After the day was done--\n",
      "\"It's very rude of him,\" she said,\n",
      "\"To come and spoil the fun!\"\n",
      "The sea was wet as wet could be,\n",
      "The sands were dry as dry.\n",
      "You could not see a cloud, because\n",
      "No cloud was in the sky:\n",
      "No birds were flying overhead--\n",
      "There were no birds to fly.\n",
      "The Walrus and the Carpenter\n",
      "Were walking close at hand;\n",
      "They wept like anything to see\n",
      "Such quantities of sand:\n",
      "\"If this were only cleared away,\"\n",
      "They said, \"it would be grand!\"\n",
      "\"If seven maids with seven mops\n",
      "Swept it for half a year.\n",
      "Do you suppose,\" the Walrus said,\n",
      "\"That they could get it clear?\"\n",
      "\"I doubt it,\" said the Carpenter,\n",
      "And shed a bitter tear.\n",
      "\"O Oysters, come and walk with us!\"\n",
      "The Walrus did beseech.\n",
      "\"A pleasant walk, a pleasant talk,\n",
      "Along the briny beach:\n",
      "We cannot do with more than four,\n",
      "To give a hand to each.\"\n",
      "The eldest Oyster looked at him,\n",
      "But never a word he said:\n",
      "The eldest Oyster winked his eye,\n",
      "And shook his heavy head--\n",
      "Meaning to say he did not choose\n",
      "To leave the oyster-bed.\n",
      "But four young Oysters hurried up,\n",
      "All eager for the treat:\n",
      "Their coats were brushed, their faces washed,\n",
      "Their shoes were clean and neat--\n",
      "And this was odd, because, you know,\n",
      "They hadn't any feet.\n",
      "Four other Oysters followed them,\n",
      "And yet another four;\n",
      "And thick and fast they came at last,\n",
      "And more, and more, and more--\n",
      "All hopping through the frothy waves,\n",
      "And scrambling to the shore.\n",
      "The Walrus and the Carpenter\n",
      "Walked on a mile or so,\n",
      "And then they rested on a rock\n",
      "Conveniently low:\n",
      "And all the little Oysters stood\n",
      "And waited in a row.\n",
      "\"The time has come,\" the Walrus said,\n",
      "\"To talk of many things:\n",
      "Of shoes--and ships--and sealing-wax--\n",
      "Of cabbages--and kings--\n",
      "And why the sea is boiling hot--\n",
      "And whether pigs have wings.\"\n",
      "\"But wait a bit,\" the Oysters cried,\n",
      "\"Before we have our chat;\n",
      "For some of us are out of breath,\n",
      "And all of us are fat!\"\n",
      "\"No hurry!\" said the Carpenter.\n",
      "They thanked him much for that.\n",
      "\"A loaf of bread,\" the Walrus said,\n",
      "\"Is what we chiefly need:\n",
      "Pepper and vinegar besides\n",
      "Are very good indeed--\n",
      "Now if you're ready, Oysters dear,\n",
      "We can begin to feed.\"\n",
      "\"But not on us!\" the Oysters cried,\n",
      "Turning a little blue.\n",
      "\"After such kindness, that would be\n",
      "A dismal thing to do!\"\n",
      "\"The night is fine,\" the Walrus said.\n",
      "\"Do you admire the view?\n",
      "\"It was so kind of you to come!\n",
      "And you are very nice!\"\n",
      "The Carpenter said nothing but\n",
      "\"Cut us another slice:\n",
      "I wish you were not quite so deaf--\n",
      "I've had to ask you twice!\"\n",
      "\"It seems a shame,\" the Walrus said,\n",
      "\"To play them such a trick,\n",
      "After we've brought them out so far,\n",
      "And made them trot so quick!\"\n",
      "The Carpenter said nothing but\n",
      "\"The butter's spread too thick!\"\n",
      "\"I weep for you,\" the Walrus said:\n",
      "\"I deeply sympathize.\"\n",
      "With sobs and tears he sorted out\n",
      "Those of the largest size,\n",
      "Holding his pocket-handkerchief\n",
      "Before his streaming eyes.\n",
      "\"O Oysters,\" said the Carpenter,\n",
      "\"You've had a pleasant run!\n",
      "Shall we be trotting home again?'\n",
      "But answer came there none--\n",
      "And this was scarcely odd, because\n",
      "They'd eaten every one.\n",
      "\n",
      "Turtle Soup\n",
      "\n",
      "Beautiful Soup, so rich and green,\n",
      "Waiting in a hot tureen!\n",
      "Who for such dainties would not stoop?\n",
      "Soup of the evening, beautiful Soup!\n",
      "Soup of the evening, beautiful Soup!\n",
      "Beau--ootiful Soo--oop!\n",
      "Beau--ootiful Soo--oop!\n",
      "Soo--oop of the e--e--evening,\n",
      "Beautiful, beautiful Soup!\n",
      "Beautiful Soup! Who cares for fish,\n",
      "Game or any other dish?\n",
      "Who would not give all else for two\n",
      "Pennyworth only of Beautiful Soup?\n",
      "Pennyworth only of beautiful Soup?\n",
      "Beau--ootiful Soo--oop!\n",
      "Beau--ootiful Soo--oop!\n",
      "Soo--oop of the e--e--evening,\n",
      "Beautiful, beauti--FUL SOUP!\n",
      "\n"
     ]
    }
   ],
   "source": [
    "for i in [2,5]:\n",
    "    title, text = poem_title_text(i)\n",
    "    print(title + '\\n')\n",
    "    print(text)"
   ]
  }
 ],
 "metadata": {
  "kernelspec": {
   "display_name": ".venv",
   "language": "python",
   "name": ".venv"
  },
  "language_info": {
   "codemirror_mode": {
    "name": "ipython",
    "version": 3
   },
   "file_extension": ".py",
   "mimetype": "text/x-python",
   "name": "python",
   "nbconvert_exporter": "python",
   "pygments_lexer": "ipython3",
   "version": "3.10.12"
  }
 },
 "nbformat": 4,
 "nbformat_minor": 2
}
