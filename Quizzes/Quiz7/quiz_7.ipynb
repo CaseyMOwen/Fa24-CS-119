{
 "cells": [
  {
   "cell_type": "markdown",
   "metadata": {},
   "source": [
    "CS119 Big Data\n",
    "\n",
    "Spring 2024"
   ]
  },
  {
   "cell_type": "markdown",
   "metadata": {
    "id": "RRuvQMtDuY3D"
   },
   "source": [
    "# Question 1-6 - Data Gathering"
   ]
  },
  {
   "cell_type": "markdown",
   "metadata": {
    "id": "7Zhh54spu7qh"
   },
   "source": [
    "### Question 1-3 - Setup API account and load in api key"
   ]
  },
  {
   "cell_type": "code",
   "execution_count": null,
   "metadata": {
    "colab": {
     "base_uri": "https://localhost:8080/"
    },
    "executionInfo": {
     "elapsed": 20971,
     "status": "ok",
     "timestamp": 1731505140852,
     "user": {
      "displayName": "Casey Owen",
      "userId": "00102100880922124702"
     },
     "user_tz": 300
    },
    "id": "Hd8xXP4pZ42j",
    "outputId": "5a3cfaac-8110-4d7c-fcc1-78bc86995512"
   },
   "outputs": [
    {
     "name": "stdout",
     "output_type": "stream",
     "text": [
      "Mounted at /content/drive\n"
     ]
    }
   ],
   "source": [
    "from google.colab import drive\n",
    "drive.mount('/content/drive', force_remount=True)\n",
    "\n",
    "!cp drive/MyDrive/Colab\\ Notebooks/Quiz7/keys.py .\n",
    "from keys import twelveDataKey as api_key"
   ]
  },
  {
   "cell_type": "markdown",
   "metadata": {
    "id": "4rfm_KLBumtN"
   },
   "source": [
    "### Question 4 - Set up data collection functions to gather data in format expected by df_hexdigest"
   ]
  },
  {
   "cell_type": "code",
   "execution_count": 3,
   "metadata": {
    "executionInfo": {
     "elapsed": 1053,
     "status": "ok",
     "timestamp": 1731505141902,
     "user": {
      "displayName": "Casey Owen",
      "userId": "00102100880922124702"
     },
     "user_tz": 300
    },
    "id": "k2Es9cr2kYGa"
   },
   "outputs": [],
   "source": [
    "import requests\n",
    "import io\n",
    "import pandas as pd\n",
    "from datetime import datetime, timedelta\n",
    "from dateutil.relativedelta import relativedelta\n",
    "import time\n",
    "\n",
    "def request_stock_data(ticker, start_date:datetime, end_date:datetime, interval='15min'):\n",
    "  '''\n",
    "  Query the API and return a df of the given ticker between the start_date and end_date\n",
    "  '''\n",
    "  url = 'https://api.twelvedata.com/time_series'\n",
    "  params = {\n",
    "      'symbol':ticker,\n",
    "      'interval':interval,\n",
    "      'start_date':start_date.strftime('%Y-%m-%d %H:%M:%S'),\n",
    "      'end_date':end_date.strftime('%Y-%m-%d %H:%M:%S'),\n",
    "      'apikey':api_key,\n",
    "      'format':'CSV',\n",
    "      'delimiter':',',\n",
    "      'order':'ASC'\n",
    "  }\n",
    "  urlData = requests.get(url, params).content\n",
    "  df = pd.read_csv(io.StringIO(urlData.decode('utf-8')),delimiter=',')\n",
    "  df['Symbol'] = ticker\n",
    "  return df\n",
    "\n",
    "def collect_stock_data(tickers:list, start_date:datetime, end_date:datetime):\n",
    "  '''\n",
    "  Collects stock data for all of a list of tickers from start_date to present and returns as a single dataframe. Queries once every 10 seconds due to API provider limit of 8 requests per minute. Collects 26 weeks of data for a single ticker per query.\n",
    "  '''\n",
    "  # present = datetime.today()\n",
    "  full_df = pd.DataFrame()\n",
    "  interval_dfs = []\n",
    "  for i, ticker in enumerate(tickers):\n",
    "    interval_start = start_date\n",
    "    while interval_start < end_date:\n",
    "      interval_end = interval_start + timedelta(weeks=26)\n",
    "      query_end = min(interval_end, end_date)\n",
    "      print(f\"Retrieving data for {ticker} from {interval_start.strftime('%Y-%m-%d %H:%M:%S')} to {query_end.strftime('%Y-%m-%d %H:%M:%S')}\")\n",
    "      interval_dfs.append(request_stock_data(ticker, interval_start, query_end))\n",
    "      if i + 1 < len(tickers) or interval_end < end_date:\n",
    "        print('Waiting 10s')\n",
    "        time.sleep(10)\n",
    "      interval_start = interval_end\n",
    "\n",
    "  # Vertically concatenate list of dfs for each interval into one long df\n",
    "  full_df = pd.concat(interval_dfs)\n",
    "  return full_df"
   ]
  },
  {
   "cell_type": "markdown",
   "metadata": {
    "id": "tsDJ82uBuyfe"
   },
   "source": [
    "### Question 5-6 - Pull the stock data for AAPl, MSFT, and IBM at 15 minute intervals for four years (Jan 1 2020 to June 30 2024)"
   ]
  },
  {
   "cell_type": "code",
   "execution_count": 4,
   "metadata": {
    "colab": {
     "base_uri": "https://localhost:8080/"
    },
    "executionInfo": {
     "elapsed": 337935,
     "status": "ok",
     "timestamp": 1731505479833,
     "user": {
      "displayName": "Casey Owen",
      "userId": "00102100880922124702"
     },
     "user_tz": 300
    },
    "id": "eARj6hiIy_EY",
    "outputId": "40ef200e-ba14-4a87-b648-d9658d053dd6"
   },
   "outputs": [
    {
     "name": "stdout",
     "output_type": "stream",
     "text": [
      "Retrieving data for AAPL from 2020-01-01 08:00:00 to 2020-07-01 08:00:00\n",
      "Waiting 10s\n",
      "Retrieving data for AAPL from 2020-07-01 08:00:00 to 2020-12-30 08:00:00\n",
      "Waiting 10s\n",
      "Retrieving data for AAPL from 2020-12-30 08:00:00 to 2021-06-30 08:00:00\n",
      "Waiting 10s\n",
      "Retrieving data for AAPL from 2021-06-30 08:00:00 to 2021-12-29 08:00:00\n",
      "Waiting 10s\n",
      "Retrieving data for AAPL from 2021-12-29 08:00:00 to 2022-06-29 08:00:00\n",
      "Waiting 10s\n",
      "Retrieving data for AAPL from 2022-06-29 08:00:00 to 2022-12-28 08:00:00\n",
      "Waiting 10s\n",
      "Retrieving data for AAPL from 2022-12-28 08:00:00 to 2023-06-28 08:00:00\n",
      "Waiting 10s\n",
      "Retrieving data for AAPL from 2023-06-28 08:00:00 to 2023-12-27 08:00:00\n",
      "Waiting 10s\n",
      "Retrieving data for AAPL from 2023-12-27 08:00:00 to 2024-06-26 08:00:00\n",
      "Waiting 10s\n",
      "Retrieving data for AAPL from 2024-06-26 08:00:00 to 2024-06-30 22:00:00\n",
      "Waiting 10s\n",
      "Retrieving data for MSFT from 2020-01-01 08:00:00 to 2020-07-01 08:00:00\n",
      "Waiting 10s\n",
      "Retrieving data for MSFT from 2020-07-01 08:00:00 to 2020-12-30 08:00:00\n",
      "Waiting 10s\n",
      "Retrieving data for MSFT from 2020-12-30 08:00:00 to 2021-06-30 08:00:00\n",
      "Waiting 10s\n",
      "Retrieving data for MSFT from 2021-06-30 08:00:00 to 2021-12-29 08:00:00\n",
      "Waiting 10s\n",
      "Retrieving data for MSFT from 2021-12-29 08:00:00 to 2022-06-29 08:00:00\n",
      "Waiting 10s\n",
      "Retrieving data for MSFT from 2022-06-29 08:00:00 to 2022-12-28 08:00:00\n",
      "Waiting 10s\n",
      "Retrieving data for MSFT from 2022-12-28 08:00:00 to 2023-06-28 08:00:00\n",
      "Waiting 10s\n",
      "Retrieving data for MSFT from 2023-06-28 08:00:00 to 2023-12-27 08:00:00\n",
      "Waiting 10s\n",
      "Retrieving data for MSFT from 2023-12-27 08:00:00 to 2024-06-26 08:00:00\n",
      "Waiting 10s\n",
      "Retrieving data for MSFT from 2024-06-26 08:00:00 to 2024-06-30 22:00:00\n",
      "Waiting 10s\n",
      "Retrieving data for IBM from 2020-01-01 08:00:00 to 2020-07-01 08:00:00\n",
      "Waiting 10s\n",
      "Retrieving data for IBM from 2020-07-01 08:00:00 to 2020-12-30 08:00:00\n",
      "Waiting 10s\n",
      "Retrieving data for IBM from 2020-12-30 08:00:00 to 2021-06-30 08:00:00\n",
      "Waiting 10s\n",
      "Retrieving data for IBM from 2021-06-30 08:00:00 to 2021-12-29 08:00:00\n",
      "Waiting 10s\n",
      "Retrieving data for IBM from 2021-12-29 08:00:00 to 2022-06-29 08:00:00\n",
      "Waiting 10s\n",
      "Retrieving data for IBM from 2022-06-29 08:00:00 to 2022-12-28 08:00:00\n",
      "Waiting 10s\n",
      "Retrieving data for IBM from 2022-12-28 08:00:00 to 2023-06-28 08:00:00\n",
      "Waiting 10s\n",
      "Retrieving data for IBM from 2023-06-28 08:00:00 to 2023-12-27 08:00:00\n",
      "Waiting 10s\n",
      "Retrieving data for IBM from 2023-12-27 08:00:00 to 2024-06-26 08:00:00\n",
      "Waiting 10s\n",
      "Retrieving data for IBM from 2024-06-26 08:00:00 to 2024-06-30 22:00:00\n"
     ]
    }
   ],
   "source": [
    "# Collect 4 years of data - Oct,1,2020 - present\n",
    "# Using 8 AM so that it is clear that we do not collect duplicate timestamps - API only includes data during trading hours\n",
    "stock_data_df = collect_stock_data(['AAPL', 'MSFT', 'IBM'], datetime(2020, 1, 1, 8), datetime(2024, 6, 30, 22))"
   ]
  },
  {
   "cell_type": "code",
   "execution_count": 5,
   "metadata": {
    "executionInfo": {
     "elapsed": 5,
     "status": "ok",
     "timestamp": 1731505479834,
     "user": {
      "displayName": "Casey Owen",
      "userId": "00102100880922124702"
     },
     "user_tz": 300
    },
    "id": "KF5DEtGxN5sO"
   },
   "outputs": [],
   "source": [
    "def df_hexdigest(saved_df):\n",
    "    '''\n",
    "        saved_df should be a dataframe with columns ['datetime', 'open', 'high', 'low', 'close', 'volume', 'Symbol']\n",
    "        and with all data points between 2020-01-01 and 2024-06-30 (both dates inclusive), for  AAPL, MSFT and IBM.\n",
    "    '''\n",
    "\n",
    "    # Convert 'datetime' column to datetime objects if it's not already\n",
    "    import pandas as pd\n",
    "\n",
    "    saved_df['datetime'] = pd.to_datetime(saved_df['datetime'])\n",
    "\n",
    "    # Sort the DataFrame by the 'datetime' column\n",
    "    saved_df = saved_df.sort_values('datetime')\n",
    "\n",
    "    # Display the sorted DataFrame (optional)\n",
    "    # print(saved_df)\n",
    "    saved_df = saved_df.reset_index(drop=True)\n",
    "    saved_df\n",
    "\n",
    "    df_filtered = saved_df[(saved_df['datetime'] >= '2020-01-01') & (saved_df['datetime'] <= '2024-06-30')]\n",
    "    df_filtered\n",
    "\n",
    "    # Sort the DataFrame by the 'datetime' column\n",
    "    df_filtered_sorted = df_filtered.sort_values('datetime')\n",
    "\n",
    "    df_filtered_sorted = df_filtered_sorted.reset_index(drop=True)\n",
    "    df_filtered_sorted.head()\n",
    "\n",
    "    df_filtered_sorted_deduped = df_filtered_sorted.drop_duplicates(subset=['datetime', 'open', 'high', 'low', 'close', 'volume', 'Symbol'], keep='first')\n",
    "\n",
    "    printed_string = df_filtered_sorted_deduped[['datetime', 'Symbol']].to_string(index=False, header=False)\n",
    "    # print(printed_string[:2000])\n",
    "    import hashlib\n",
    "    md5_hash = hashlib.md5(printed_string.encode()) # Use hashlib.md5() to create the hash object\n",
    "    return md5_hash.hexdigest()"
   ]
  },
  {
   "cell_type": "code",
   "execution_count": 9,
   "metadata": {
    "colab": {
     "base_uri": "https://localhost:8080/"
    },
    "executionInfo": {
     "elapsed": 928,
     "status": "ok",
     "timestamp": 1731505500333,
     "user": {
      "displayName": "Casey Owen",
      "userId": "00102100880922124702"
     },
     "user_tz": 300
    },
    "id": "7ddj4NHD_KBI",
    "outputId": "037b2180-6484-427c-c703-00e2c8f48d82"
   },
   "outputs": [
    {
     "name": "stdout",
     "output_type": "stream",
     "text": [
      "              datetime       open       high        low      close   volume  \\\n",
      "0  2020-01-02 15:45:00   75.06250   75.15000   74.97500   75.14760  5640128   \n",
      "1  2020-01-03 09:45:00   74.99500   75.02000   74.65250   74.80040  9608768   \n",
      "2  2020-01-03 10:00:00   74.79500   74.80000   74.40250   74.79185  8477900   \n",
      "3  2020-01-03 10:15:00   74.79500   74.89585   74.69263   74.86750  4918860   \n",
      "4  2020-01-03 10:30:00   74.86250   74.86750   74.56250   74.59753  3234384   \n",
      "..                 ...        ...        ...        ...        ...      ...   \n",
      "73 2024-06-28 14:45:00  172.24001  172.30499  172.07170  172.27000    57354   \n",
      "74 2024-06-28 15:00:00  172.25000  172.30000  171.96750  172.22000   109143   \n",
      "75 2024-06-28 15:15:00  172.21001  172.92000  172.16499  172.81000    70159   \n",
      "76 2024-06-28 15:30:00  172.82001  173.24001  172.42999  173.07001   115046   \n",
      "77 2024-06-28 15:45:00  173.10001  173.34000  172.77000  173.00999   428610   \n",
      "\n",
      "   Symbol  \n",
      "0    AAPL  \n",
      "1    AAPL  \n",
      "2    AAPL  \n",
      "3    AAPL  \n",
      "4    AAPL  \n",
      "..    ...  \n",
      "73    IBM  \n",
      "74    IBM  \n",
      "75    IBM  \n",
      "76    IBM  \n",
      "77    IBM  \n",
      "\n",
      "[87906 rows x 7 columns]\n"
     ]
    }
   ],
   "source": [
    "stock_data_df.to_csv('/content/drive/MyDrive/Colab Notebooks/Quiz7/stock_data.csv')\n",
    "print(stock_data_df)"
   ]
  },
  {
   "cell_type": "code",
   "execution_count": 7,
   "metadata": {
    "colab": {
     "base_uri": "https://localhost:8080/"
    },
    "executionInfo": {
     "elapsed": 5,
     "status": "ok",
     "timestamp": 1731505481194,
     "user": {
      "displayName": "Casey Owen",
      "userId": "00102100880922124702"
     },
     "user_tz": 300
    },
    "id": "NYrFpqE_QCMI",
    "outputId": "a6a7ec21-8866-4a8c-e667-ac9c23885dd6"
   },
   "outputs": [
    {
     "name": "stdout",
     "output_type": "stream",
     "text": [
      "['AAPL' 'MSFT' 'IBM']\n",
      "2020-01-02 11:45:00\n",
      "2024-06-28 15:45:00\n",
      "Index(['datetime', 'open', 'high', 'low', 'close', 'volume', 'Symbol'], dtype='object')\n"
     ]
    }
   ],
   "source": [
    "# checking parameters to create correct hash\n",
    "print(stock_data_df['Symbol'].unique())\n",
    "print(min(stock_data_df['datetime']))\n",
    "print(max(stock_data_df['datetime']))\n",
    "print(stock_data_df.columns)"
   ]
  },
  {
   "cell_type": "code",
   "execution_count": 8,
   "metadata": {
    "colab": {
     "base_uri": "https://localhost:8080/"
    },
    "executionInfo": {
     "elapsed": 1366,
     "status": "ok",
     "timestamp": 1731505482557,
     "user": {
      "displayName": "Casey Owen",
      "userId": "00102100880922124702"
     },
     "user_tz": 300
    },
    "id": "6xIEaap_N2wp",
    "outputId": "85a25dca-c7fe-4bc9-a903-579f283a4df5"
   },
   "outputs": [
    {
     "name": "stdout",
     "output_type": "stream",
     "text": [
      "8bf3d7cac13198b7eb145af3754cef1c\n"
     ]
    }
   ],
   "source": [
    "df_hash = df_hexdigest(stock_data_df)\n",
    "print(df_hash)\n",
    "with open('/content/drive/MyDrive/Colab Notebooks/Quiz7/df_hash.txt', 'wt', encoding='utf-8') as f:\n",
    "  f.write(df_hash)"
   ]
  },
  {
   "cell_type": "markdown",
   "metadata": {
    "id": "s_E00LJqmzWY"
   },
   "source": [
    "# Algorithmic Stock Trading"
   ]
  },
  {
   "cell_type": "markdown",
   "metadata": {
    "id": "iR9xJumKm3K7"
   },
   "source": [
    "## Question 7 - Order Splitting Execution"
   ]
  },
  {
   "cell_type": "markdown",
   "metadata": {
    "id": "EPUvzQfDm9zn"
   },
   "source": [
    "In order to best break the order into manageable chunks so that I could buy 1,000,000 shares without letting the market know, I would start by specifying the time interval over which it would be acceptable to buy - for example over 2-4 weeks would give much more flexibility than 1 day. If there is no rush, I would choose to do it over the course of 4 weeks.\n",
    "\n",
    "I would also make sure to not choose a time period that overlaps with a quarter end, since I do not want to have to disclose my holdings while I am still executing my small orders.\n",
    "\n",
    "Then, I could look for which times of the day are likely to have the most trading volume, bias my purchases towards happening at those times. Since those times have the most volume anyway, it will be less supsicious to happen then, and there is likely significant expected variance in trading volumes at those times.\n",
    "\n",
    "I would determine the number of chunks and the size of each chunk (to nearest 100 shares) randomly via a probability distribution, generated from historical data of previous trades. This way the size of each trade will most closely match previous, typical trades and not be suspicious.\n",
    "\n",
    "I would also split my order between the available exchanges that it is listed on such as the New York stock exchange and the Chicago Stock Exchange, again proportional to typical activity for each exchange.\n",
    "\n",
    "I will not base my trading strategy on price, and buy more when the price goes down, since my primary objective is to minimize suspicion, and there is no way to no whether the price will continue going down or not.\n",
    "\n",
    "\n"
   ]
  },
  {
   "cell_type": "markdown",
   "metadata": {
    "id": "xta11-hTGdFu"
   },
   "source": [
    "## Question 8 - Detecting Stock Dumping"
   ]
  },
  {
   "cell_type": "markdown",
   "metadata": {
    "id": "h6jXd1oPGfhA"
   },
   "source": [
    "My strategy for detecting someone dumping a large quantity of stocks would be to first check for the most obvious types of dumping, where there are large individual sell orders. I would then check for individual times where activity is much higher than usual.\n",
    "\n",
    "I could do this by training a machine learning model, perhaps a neural network, on previous stock trading data that is capable of predicting how much trading volume is expected at a given time period. I could train multiple models for a single stock, one for each different time period - for example expected trading over the previous 10 minutes, vs over previous 2 hours vs over 1 day vs over 1 week. Then, if actual results differ significantly than the models predictions, that would be an indication there is stock dumping, or some other unusual activity.\n",
    "\n",
    "In practice, this would be very difficult if the seller is attempting to hide their activity. There will be little way to differentiate between stock dumping from an individual, vs. decreased market sentiment causing many people to want to sell their stock. As one way to attempt to correct for this, I would also monitor the news cycle to see if some the results from the neural network could be explained by recent news - if there was bearish news from the company recently, I would discard the conclusion that a sell must be stock dumping from an individual."
   ]
  },
  {
   "cell_type": "markdown",
   "metadata": {
    "id": "qBAw4PmLvhJF"
   },
   "source": [
    "# Technical Analysis Of Stock Trading"
   ]
  },
  {
   "cell_type": "markdown",
   "metadata": {},
   "source": [
    "## Question 9-10 - Update stock-price-feeder.py"
   ]
  },
  {
   "cell_type": "markdown",
   "metadata": {},
   "source": [
    "### new-stock-price-feeder.py"
   ]
  },
  {
   "cell_type": "code",
   "execution_count": null,
   "metadata": {},
   "outputs": [],
   "source": [
    "#!/usr/bin/env python3\n",
    "# -*- coding: utf-8 -*-\n",
    "\n",
    "# !pip install pandas\n",
    "import pandas as pd\n",
    "import time, datetime, sys\n",
    "import os, pathlib\n",
    "from keys import twelveDataKey as api_key\n",
    "\n",
    "import requests\n",
    "import io\n",
    "import pandas as pd\n",
    "from datetime import datetime, timedelta\n",
    "from dateutil.relativedelta import relativedelta\n",
    "import time\n",
    "\n",
    "def request_stock_data(ticker, start_date:datetime, end_date:datetime, interval='15min'):\n",
    "  '''\n",
    "  Query the API and return a df of the open price of a given ticker between the start_date and end_date\n",
    "  '''\n",
    "  url = 'https://api.twelvedata.com/time_series'\n",
    "  params = {\n",
    "      'symbol':ticker,\n",
    "      'interval':interval,\n",
    "      'start_date':start_date.strftime('%Y-%m-%d %H:%M:%S'),\n",
    "      'end_date':end_date.strftime('%Y-%m-%d %H:%M:%S'),\n",
    "      'apikey':api_key,\n",
    "      'format':'CSV',\n",
    "      'delimiter':',',\n",
    "      'order':'ASC'\n",
    "  }\n",
    "  urlData = requests.get(url, params).content\n",
    "  df = pd.read_csv(io.StringIO(urlData.decode('utf-8')),delimiter=',', index_col='datetime')\n",
    "  df.drop(columns=['high','low','close','volume'], inplace=True)\n",
    "  df.rename(columns={'open':ticker}, inplace=True)\n",
    "  return df\n",
    "\n",
    "def collect_stock_data_new(tickers:list, start_date:datetime):\n",
    "  '''\n",
    "  Collects up to 5,000 days of stock data for all of a list of tickers from start_date and returns as a single dataframe. If more than 8 tickers, only queries every 60 seconds due to API provider limit of 8 requests per minute.\n",
    "  '''\n",
    "  full_df = pd.DataFrame()\n",
    "  for i, ticker in enumerate(tickers):\n",
    "    interval_end = start_date + timedelta(days=5000)\n",
    "    ticker_df = request_stock_data(ticker, start_date, interval_end, interval='1day')\n",
    "    if (i+1) % 8 == 0:\n",
    "      print('Waiting 60s')\n",
    "      time.sleep(60)\n",
    "    if full_df.empty:\n",
    "      full_df = ticker_df\n",
    "    else:\n",
    "      full_df = full_df.join(ticker_df)\n",
    "  return full_df\n",
    "\n",
    "tech_df = collect_stock_data_new(['AAPL', 'MSFT'], datetime(2024, 6, 1, 8))\n",
    "\n",
    "sys.stdout.reconfigure(encoding='utf-8')\n",
    "sys.path.insert(0, str(pathlib.Path(__file__).parent.parent))\n",
    "\n",
    "dates = tech_df.index.rename('Date')\n",
    "init_date = list(dates)[0]\n",
    "last_hist_date = list(dates)[-1]\n",
    "\n",
    "\n",
    "init_delay_seconds = 30\n",
    "interval = 5\n",
    "\n",
    "scaler = tech_df['AAPL'][init_date]/tech_df['MSFT'][init_date]\n",
    "aapl  = tech_df['AAPL']\n",
    "msft  = tech_df['MSFT']\n",
    "tech_df['scaledMSFT'] = msft*scaler\n",
    "\n",
    "print ('Sending daily AAPL and MSFT prices from %10s to %10s ...' % (str(init_date)[:10], str(last_hist_date)[:10]), flush=True, file=sys.stderr)\n",
    "print (\"... each day's data sent every %d seconds ...\" % (interval), flush=True, file=sys.stderr)\n",
    "print ('... beginning in %02d seconds ...' % (init_delay_seconds), flush=True, file=sys.stderr)\n",
    "print (\"... MSFT prices adjusted to match AAPL prices on %10s ...\"  % (init_date), flush=True, file=sys.stderr)\n",
    "\n",
    "from tqdm import tqdm\n",
    "for left in tqdm(range(init_delay_seconds)):\n",
    "    time.sleep(0.5)\n",
    "\n",
    "for date in list(dates):       \n",
    "    print ('%10s\\t%.4f\\t%.4f' % (str(date)[:10], tech_df['AAPL'][date], tech_df['scaledMSFT'][date]), flush=True)\n",
    "    time.sleep(float(interval))\n",
    "\n",
    "exit(0)"
   ]
  },
  {
   "cell_type": "markdown",
   "metadata": {},
   "source": [
    "## Question 11-14 - Create pyspark streams for comparing moving averages, and executing buy/sell trades"
   ]
  },
  {
   "attachments": {
    "image-2.png": {
     "image/png": "[encoded data removed]"
    }
   },
   "cell_type": "markdown",
   "metadata": {},
   "source": [
    "Run with:\n",
    "\n",
    "In sender: python new-stock-price-feeder.py 2>/dev/null | nc -lk 9999\n",
    "\n",
    "In receiver: spark-submit q3-stock-streaming.py localhost 9999\n",
    "\n",
    "Example results:\n",
    "\n",
    "![image-2.png](attachment:image-2.png)"
   ]
  },
  {
   "cell_type": "markdown",
   "metadata": {},
   "source": [
    "### Pyspark Code: q3-stock-streaming.py"
   ]
  },
  {
   "cell_type": "code",
   "execution_count": null,
   "metadata": {},
   "outputs": [],
   "source": [
    "import sys, time\n",
    "\n",
    "import pyspark\n",
    "from pyspark.conf import SparkConf\n",
    "from pyspark.context import SparkContext\n",
    "from pyspark.sql import SparkSession\n",
    "\n",
    "from pyspark.sql.functions import window, avg,  col\n",
    "\n",
    "def setLogLevel(sc, level):\n",
    "    from pyspark.sql import SparkSession\n",
    "    spark = SparkSession(sc)\n",
    "    spark.sparkContext.setLogLevel(level)\n",
    "\n",
    "if __name__ == \"__main__\":\n",
    "    if len(sys.argv) != 3:\n",
    "        print(\"Usage: q3-stock-streaming.py <hostname> <port>\", file=sys.stderr)\n",
    "        sys.exit(-1)\n",
    "\n",
    "    print ('Argv', sys.argv)\n",
    "    \n",
    "    host = sys.argv[1]\n",
    "    port = int(sys.argv[2])\n",
    "    print ('host', type(host), host, 'port', type(port), port)\n",
    "\n",
    "    sc_bak = SparkContext.getOrCreate()\n",
    "    sc_bak.stop()\n",
    "    \n",
    "    time.sleep(15)\n",
    "    print ('Ready to work!')\n",
    "\n",
    "    ctx = pyspark.SparkContext(appName = \"Stock Streaming\", master=\"local[*]\")\n",
    "    print ('Context', ctx)\n",
    "\n",
    "    spark = SparkSession(ctx).builder.getOrCreate()\n",
    "    sc = spark.sparkContext\n",
    "\n",
    "    setLogLevel(sc, \"WARN\")\n",
    "\n",
    "    print ('Session:', spark)\n",
    "    print ('SparkContext', sc)\n",
    "    \n",
    "\n",
    "    # Create DataFrame representing the stream of input lines from connection to host:port\n",
    "    lines = spark\\\n",
    "        .readStream\\\n",
    "        .format('socket')\\\n",
    "        .option('host', host)\\\n",
    "        .option('port', port)\\\n",
    "        .load()\n",
    "\n",
    "    # Question 11\n",
    "    aaplPrice = lines.selectExpr(\"split(value, '\\t') as col\").selectExpr(\"cast(col[0] as timestamp) as timestamp\", \"cast(col[1] as double) as AAPL\").withWatermark(\"timestamp\", \"40 days\")\n",
    "\n",
    "    msftPrice = lines.selectExpr(\"split(value, '\\t') as col\").selectExpr(\"cast(col[0] as timestamp) as timestamp\", \"cast(col[2] as double) as MSFT\").withWatermark(\"timestamp\", \"40 days\")\n",
    "\n",
    "    # Question 12\n",
    "    # Also need 1 day prices so we can calculate the equiv number of MSFT shares to 1,000 shares of AAPL\n",
    "    aapl1Day = aaplPrice\\\n",
    "        .groupBy(window(col(\"timestamp\"), \"1 day\", \"1 day\"))\\\n",
    "        .agg(avg(col(\"AAPL\")).alias(\"rolling_avg_appl_1\"))\\\n",
    "        .selectExpr(\"window.end as window_end\", \"rolling_avg_appl_1\")\n",
    "\n",
    "    aapl10Day = aaplPrice\\\n",
    "        .groupBy(window(col(\"timestamp\"), \"10 days\", \"1 day\"))\\\n",
    "        .agg(avg(col(\"AAPL\")).alias(\"rolling_avg_appl_10\"))\\\n",
    "        .selectExpr(\"window.end as window_end\", \"rolling_avg_appl_10\")\n",
    "    \n",
    "    aapl40Day = aaplPrice\\\n",
    "        .groupBy(window(col(\"timestamp\"), \"40 days\", \"1 day\"))\\\n",
    "        .agg(avg(col(\"AAPL\")).alias(\"rolling_avg_appl_40\"))\\\n",
    "        .selectExpr(\"window.end as window_end\", \"rolling_avg_appl_40\")\n",
    "    \n",
    "    # Question 13\n",
    "    msft1Day = msftPrice\\\n",
    "        .groupBy(window(col(\"timestamp\"), \"1 day\", \"1 day\"))\\\n",
    "        .agg(avg(col(\"MSFT\")).alias(\"rolling_avg_msft_1\"))\\\n",
    "        .selectExpr(\"window.end as window_end\", \"rolling_avg_msft_1\")\n",
    "\n",
    "    msft10Day = msftPrice\\\n",
    "        .groupBy(window(col(\"timestamp\"), \"10 days\", \"1 day\"))\\\n",
    "        .agg(avg(col(\"MSFT\")).alias(\"rolling_avg_msft_10\"))\\\n",
    "        .selectExpr(\"window.end as window_end\", \"rolling_avg_msft_10\")\n",
    "    \n",
    "    msft40Day = msftPrice\\\n",
    "        .groupBy(window(col(\"timestamp\"), \"40 days\", \"1 day\"))\\\n",
    "        .agg(avg(col(\"MSFT\")).alias(\"rolling_avg_msft_40\"))\\\n",
    "        .selectExpr(\"window.end as window_end\", \"rolling_avg_msft_40\")\n",
    "\n",
    "    # Question 14\n",
    "    # Join on window_end since that is the \"current day\" to buy or sell on\n",
    "    joined_streams = aapl1Day\\\n",
    "        .join(aapl10Day, \"window_end\")\\\n",
    "        .join(aapl40Day, \"window_end\")\\\n",
    "        .join(msft1Day, \"window_end\")\\\n",
    "        .join(msft10Day, \"window_end\")\\\n",
    "        .join(msft40Day, \"window_end\")\\\n",
    "\n",
    "    with open(\"trade_signals.txt\", \"w\") as file:\n",
    "        file.write(\"[\")\n",
    "\n",
    "    def print_to_file(text:str):\n",
    "        filename = \"trade_signals.txt\"\n",
    "        with open(filename, \"a\") as file:\n",
    "            file.write(text + \",\")\n",
    "            \n",
    "    previous_df = None\n",
    "    def compare_and_print(batch_df, batch_id):\n",
    "        '''\n",
    "        Compare the rolling averages and print the result to file and console. Print extra info to console to monitor status of stream.\n",
    "        '''\n",
    "        output_file = \"\"\n",
    "        global previous_df\n",
    "        current_df = batch_df.collect()\n",
    "        if previous_df is not None:\n",
    "            for current, previous in zip(current_df, previous_df):\n",
    "                date = current[\"window_end\"].date()\n",
    "                print(date)\n",
    "                print(f'aapl today: {current[\"rolling_avg_appl_1\"]}')\n",
    "                print(f'aapl 10-day: {current[\"rolling_avg_appl_10\"]}')\n",
    "                print(f'appl 40-day: {current[\"rolling_avg_appl_40\"]}')\n",
    "\n",
    "                print(f'msft today: {current[\"rolling_avg_msft_1\"]}')\n",
    "                print(f'msft 10-day: {current[\"rolling_avg_msft_10\"]}')\n",
    "                print(f'msft 40-day: {current[\"rolling_avg_msft_40\"]}')\n",
    "                \n",
    "                previous_buy_appl = (previous[\"rolling_avg_appl_10\"] > previous[\"rolling_avg_appl_40\"])\n",
    "                current_buy_appl = (current[\"rolling_avg_appl_10\"] > current[\"rolling_avg_appl_40\"])\n",
    "\n",
    "                previous_buy_msft = (previous[\"rolling_avg_msft_10\"] > previous[\"rolling_avg_msft_40\"])\n",
    "                current_buy_msft = (current[\"rolling_avg_msft_10\"] > current[\"rolling_avg_msft_40\"])\n",
    "\n",
    "                if (previous_buy_appl and not current_buy_appl):\n",
    "                    print(f'({date} sell 1000 shares AAPL)')\n",
    "                    print_to_file(f'({date} sell 1000 shares AAPL)')\n",
    "                elif (current_buy_appl and not previous_buy_appl):\n",
    "                    print(f'({date} buy 1000 shares AAPL)')\n",
    "                    print_to_file(f'({date} buy 1000 shares AAPL)')\n",
    "\n",
    "                # Number of msft shares that are same dollar amount as 1,000 aapl shares\n",
    "                msft_equiv_shares = 1000*current[\"rolling_avg_appl_1\"]/current[\"rolling_avg_msft_1\"]\n",
    "                if (previous_buy_msft and not current_buy_msft):\n",
    "                    print(f'({date} sell {msft_equiv_shares:.2f} shares MSFT)')\n",
    "                    print_to_file(f'({date} sell {msft_equiv_shares:.2f} shares MSFT)')\n",
    "                elif (current_buy_msft and not previous_buy_msft):\n",
    "                    print(f'({date} buy {msft_equiv_shares:.2f} shares MSFT)')\n",
    "                    print_to_file(f'({date} buy {msft_equiv_shares:.2f} shares MSFT)')\n",
    "\n",
    "        previous_df = current_df\n",
    "\n",
    "    query = joined_streams.writeStream\\\n",
    "        .foreachBatch(compare_and_print)\\\n",
    "        .start()\n",
    "\n",
    "    query.awaitTermination()\n",
    "\n",
    "    with open(\"trade_signals.txt\", \"a\") as file:\n",
    "        file.write(\"]\")"
   ]
  },
  {
   "cell_type": "markdown",
   "metadata": {},
   "source": [
    "### Results: trade_signals.txt - For time period of June 2024 - October 2024"
   ]
  },
  {
   "cell_type": "markdown",
   "metadata": {},
   "source": [
    "[(2024-06-14 buy 1000 shares AAPL),(2024-06-14 buy 1051.06 shares MSFT),(2024-06-13 buy 1000 shares AAPL),(2024-06-13 buy 1049.28 shares MSFT),(2024-06-21 buy 1000 shares AAPL),(2024-06-21 buy 1013.02 shares MSFT),(2024-06-20 buy 1000 shares AAPL),(2024-06-20 buy 1032.56 shares MSFT),(2024-07-30 sell 1000 shares AAPL),(2024-07-30 sell 1103.90 shares MSFT),(2024-07-26 sell 1126.51 shares MSFT),(2024-07-25 sell 1099.82 shares MSFT),(2024-07-24 sell 1095.52 shares MSFT),(2024-07-22 sell 1106.88 shares MSFT),(2024-08-01 sell 1000 shares AAPL),(2024-08-02 sell 1000 shares AAPL),(2024-08-06 sell 1000 shares AAPL),(2024-08-05 sell 1000 shares AAPL),(2024-08-21 buy 1000 shares AAPL),(2024-08-19 buy 1000 shares AAPL),(2024-08-20 buy 1000 shares AAPL),(2024-08-27 buy 1000 shares AAPL),(2024-08-27 buy 1179.17 shares MSFT),(2024-08-22 buy 1000 shares AAPL),(2024-08-26 buy 1173.16 shares MSFT),(2024-08-28 buy 1183.40 shares MSFT),(2024-09-03 buy 1178.06 shares MSFT),(2024-08-30 sell 1193.11 shares MSFT),(2024-09-06 sell 1179.33 shares MSFT),(2024-09-09 sell 1168.04 shares MSFT),(2024-09-04 sell 1176.33 shares MSFT),(2024-09-16 sell 1000 shares AAPL),(2024-09-16 buy 1083.26 shares MSFT),(2024-09-17 sell 1000 shares AAPL),(2024-09-17 buy 1055.70 shares MSFT),(2024-09-18 sell 1000 shares AAPL),(2024-09-18 buy 1077.31 shares MSFT),(2024-09-27 buy 1000 shares AAPL),(2024-09-30 buy 1000 shares AAPL),(2024-10-01 buy 1000 shares AAPL),"
   ]
  }
 ],
 "metadata": {
  "colab": {
   "provenance": [
    {
     "file_id": "1mcmlSYq7mr1-iwuGW2mK7QLJpV5wa6hm",
     "timestamp": 1729348750728
    },
    {
     "file_id": "1PZ2O7zktY3MzbLAc5b3YucYwq-Mm79yJ",
     "timestamp": 1710002728807
    },
    {
     "file_id": "1BTbuzOXvc-6Am1p93XCaSuKuu6u3yoQ5",
     "timestamp": 1710001824830
    },
    {
     "file_id": "1tpaKyZk9qhINEmzUPiVyyqH3PlPvj21H",
     "timestamp": 1698701494422
    },
    {
     "file_id": "1i4JzJyBbUOkOPW5snTxfezjtBp6zhLRd",
     "timestamp": 1691525802352
    }
   ]
  },
  "kernelspec": {
   "display_name": "Python 3",
   "name": "python3"
  },
  "language_info": {
   "name": "python"
  }
 },
 "nbformat": 4,
 "nbformat_minor": 0
}
